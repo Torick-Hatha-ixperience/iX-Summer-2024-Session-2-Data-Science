{
 "cells": [
  {
   "cell_type": "markdown",
   "metadata": {},
   "source": [
    "## <font color='#eb3483'>Visualizing Primary Votes </font>\n",
    "\n",
    "In this exercise we are going to plot a map showing the % votes Donald Trump got on each state for the US Republican primaries in 2016. \n",
    "\n",
    "To do so we have to follow these steps:\n",
    "\n",
    "1. Get the data. We just have to use the file `primary_results.csv` that we used in the introduction to pandas class.\n",
    "\n",
    "2. Get US States geo json data. We can find it in many places, [here](https://github.com/jgoodall/us-maps) for example. **NOTE:** *when loading the geojson file, you might experience a UnicodeDecodeError, you can fix this by opening the file like this: \n",
    "```\n",
    "with open(geo_json_file, errors=\"ignore\") as fname:\n",
    "    ... rest of code\n",
    "```\n",
    "3. ...?\n",
    "4. Plot the map"
   ]
  }
 ],
 "metadata": {
  "kernelspec": {
   "display_name": "Python 3",
   "language": "python",
   "name": "python3"
  },
  "language_info": {
   "codemirror_mode": {
    "name": "ipython",
    "version": 3
   },
   "file_extension": ".py",
   "mimetype": "text/x-python",
   "name": "python",
   "nbconvert_exporter": "python",
   "pygments_lexer": "ipython3",
   "version": "3.8.2"
  }
 },
 "nbformat": 4,
 "nbformat_minor": 2
}
