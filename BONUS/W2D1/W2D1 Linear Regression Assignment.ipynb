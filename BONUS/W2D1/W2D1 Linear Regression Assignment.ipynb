{
 "cells": [
  {
   "cell_type": "markdown",
   "metadata": {},
   "source": [
    "## <font color='#eb3483'>Predicting life expectancy</font>\n",
    "\n",
    "How do factors like immunization, mortality, economic, social and health affect life expectancy? In this assignment we will be using these and other factors to predict life expectancy in countries around the world. \n",
    "The data we'll be using comes from [The Global Health Observatory (GHO) data repository under World Health Organization (WHO)](https://www.who.int/data/gho/info/gho-odata-api) and is provided here in the file `life-expectancy-data.csv`. Columns in the dataset include a country's development status, life expectancy, adult mortality rates of both sexes (i.e., the probability of dying between 15 and 60 years per 1000 population), number of infant deaths per 1000 population, alcohol consumption per capita (in litres of pure alcohol), percentage expenditure on health as percentage of GDP, Hepatitis B immunization coverage among 1-year-olds (%), measles (number of reported cases per 1000 population), polio immunization, diphtheria immunization, HIV/AIDS prevalence (%), and many more. \n",
    "\n",
    "Do exploratory data analysis to help determine what features to select for predicting life expectancy. Build a regression model using the selected features. How do these features affect the model? You can begin to ask questions like what is the are $R^2$ and $R^2_{adj}$ of the model? What to these metrics as more input variables are added to the model? \n",
    "\n",
    "Feature selection is an important part of machine learning, often requiring domain knowledge. To help you get started take a look at this article [Feature Selection with sklearn and Pandas](https://towardsdatascience.com/feature-selection-with-pandas-e3690ad8504b).\n"
   ]
  },
  {
   "cell_type": "code",
   "execution_count": null,
   "metadata": {},
   "outputs": [],
   "source": []
  }
 ],
 "metadata": {
  "kernelspec": {
   "display_name": "Python 3",
   "language": "python",
   "name": "python3"
  },
  "language_info": {
   "codemirror_mode": {
    "name": "ipython",
    "version": 3
   },
   "file_extension": ".py",
   "mimetype": "text/x-python",
   "name": "python",
   "nbconvert_exporter": "python",
   "pygments_lexer": "ipython3",
   "version": "3.8.5"
  }
 },
 "nbformat": 4,
 "nbformat_minor": 2
}
