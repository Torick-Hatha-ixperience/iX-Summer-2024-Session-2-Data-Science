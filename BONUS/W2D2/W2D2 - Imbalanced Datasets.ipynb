{
 "cells": [
  {
   "cell_type": "markdown",
   "metadata": {},
   "source": [
    "# <font color='#eb3483'> Evaluation on Imbalanced Datasets </font>\n",
    "Sometimes our datasets don't naturally have an equal split of data amongst groups. Think of spam detection - the majority of e-mails you get aren't spam, maybe only about 1% of emails actually are spam. So a spam filter that just says everything is not spam will get 99% accuracy, but that's clearly not the best we can do! In this module we'll explore the issue in a little more depth and highlight the importance of all the different model evaluation tools we learned."
   ]
  },
  {
   "cell_type": "code",
   "execution_count": 1,
   "metadata": {},
   "outputs": [],
   "source": [
    "from IPython.display import Image\n",
    "import pandas as pd\n",
    "import numpy as np\n",
    "from sklearn.datasets import load_breast_cancer\n",
    "from sklearn import metrics\n",
    "from sklearn.linear_model import LogisticRegression\n",
    "from sklearn.model_selection import train_test_split\n",
    "from sklearn.metrics import confusion_matrix\n",
    "\n",
    "import seaborn as sns\n",
    "sns.set(rc={'figure.figsize':(6,6)}) #Set our seaborn aesthetics (we're going to customize our figure size)\n",
    "\n",
    "import warnings\n",
    "warnings.simplefilter(\"ignore\")"
   ]
  },
  {
   "cell_type": "markdown",
   "metadata": {},
   "source": [
    "# <font color='#eb3483'> Our Data </font>"
   ]
  },
  {
   "cell_type": "markdown",
   "metadata": {},
   "source": [
    "First we create a function that evaluates a model and produces all of the metrics"
   ]
  },
  {
   "cell_type": "code",
   "execution_count": 2,
   "metadata": {},
   "outputs": [],
   "source": [
    "def evaluate_model(true_classes, predictions):\n",
    "    accuracy = metrics.accuracy_score(true_classes, predictions)\n",
    "    precision = metrics.average_precision_score(true_classes, predictions)\n",
    "    recall = metrics.recall_score(true_classes, predictions)\n",
    "    auc = metrics.roc_auc_score(true_classes, predictions)\n",
    "    f1 = metrics.f1_score(true_classes, predictions)\n",
    "    print(\"\"\"\n",
    "    Accuracy: {:.3f}\n",
    "    Precision: {:.3f}\n",
    "    Recall: {:.3f}\n",
    "    AUC: {:.3f}\n",
    "    F1 Score: {:.3f}\n",
    "    \"\"\".format(\n",
    "        accuracy, \n",
    "        precision,\n",
    "        recall,\n",
    "        auc,\n",
    "        f1\n",
    "    ))"
   ]
  },
  {
   "cell_type": "markdown",
   "metadata": {},
   "source": [
    "For this section we are going to use an imbalanced dataset. It is a dataset taken (with some modifications) from a Kaggle Competition.\n",
    "\n",
    "https://www.kaggle.com/c/GiveMeSomeCredit/data\n",
    "\n",
    "The goal for this dataset is: \n",
    "\n",
    ">Improve on the state of the art in credit scoring by predicting the probability that somebody will experience financial distress in the next two years. "
   ]
  },
  {
   "cell_type": "code",
   "execution_count": 3,
   "metadata": {},
   "outputs": [],
   "source": [
    "credits_df = pd.read_csv(\"data/cs-training.csv\")"
   ]
  },
  {
   "cell_type": "code",
   "execution_count": 4,
   "metadata": {},
   "outputs": [
    {
     "data": {
      "text/plain": [
       "(120269, 11)"
      ]
     },
     "execution_count": 4,
     "metadata": {},
     "output_type": "execute_result"
    }
   ],
   "source": [
    "credits_df.shape"
   ]
  },
  {
   "cell_type": "code",
   "execution_count": 5,
   "metadata": {},
   "outputs": [
    {
     "data": {
      "text/html": [
       "<div>\n",
       "<style scoped>\n",
       "    .dataframe tbody tr th:only-of-type {\n",
       "        vertical-align: middle;\n",
       "    }\n",
       "\n",
       "    .dataframe tbody tr th {\n",
       "        vertical-align: top;\n",
       "    }\n",
       "\n",
       "    .dataframe thead th {\n",
       "        text-align: right;\n",
       "    }\n",
       "</style>\n",
       "<table border=\"1\" class=\"dataframe\">\n",
       "  <thead>\n",
       "    <tr style=\"text-align: right;\">\n",
       "      <th></th>\n",
       "      <th>SeriousDlqin2yrs</th>\n",
       "      <th>RevolvingUtilizationOfUnsecuredLines</th>\n",
       "      <th>age</th>\n",
       "      <th>NumberOfTime30-59DaysPastDueNotWorse</th>\n",
       "      <th>DebtRatio</th>\n",
       "      <th>MonthlyIncome</th>\n",
       "      <th>NumberOfOpenCreditLinesAndLoans</th>\n",
       "      <th>NumberOfTimes90DaysLate</th>\n",
       "      <th>NumberRealEstateLoansOrLines</th>\n",
       "      <th>NumberOfTime60-89DaysPastDueNotWorse</th>\n",
       "      <th>NumberOfDependents</th>\n",
       "    </tr>\n",
       "  </thead>\n",
       "  <tbody>\n",
       "    <tr>\n",
       "      <th>0</th>\n",
       "      <td>0</td>\n",
       "      <td>0.766127</td>\n",
       "      <td>45</td>\n",
       "      <td>2</td>\n",
       "      <td>0.802982</td>\n",
       "      <td>9120.0</td>\n",
       "      <td>13</td>\n",
       "      <td>0</td>\n",
       "      <td>6</td>\n",
       "      <td>0</td>\n",
       "      <td>2.0</td>\n",
       "    </tr>\n",
       "    <tr>\n",
       "      <th>1</th>\n",
       "      <td>1</td>\n",
       "      <td>0.957151</td>\n",
       "      <td>40</td>\n",
       "      <td>0</td>\n",
       "      <td>0.121876</td>\n",
       "      <td>2600.0</td>\n",
       "      <td>4</td>\n",
       "      <td>0</td>\n",
       "      <td>0</td>\n",
       "      <td>0</td>\n",
       "      <td>1.0</td>\n",
       "    </tr>\n",
       "    <tr>\n",
       "      <th>2</th>\n",
       "      <td>1</td>\n",
       "      <td>0.658180</td>\n",
       "      <td>38</td>\n",
       "      <td>1</td>\n",
       "      <td>0.085113</td>\n",
       "      <td>3042.0</td>\n",
       "      <td>2</td>\n",
       "      <td>1</td>\n",
       "      <td>0</td>\n",
       "      <td>0</td>\n",
       "      <td>0.0</td>\n",
       "    </tr>\n",
       "    <tr>\n",
       "      <th>3</th>\n",
       "      <td>1</td>\n",
       "      <td>0.233810</td>\n",
       "      <td>30</td>\n",
       "      <td>0</td>\n",
       "      <td>0.036050</td>\n",
       "      <td>3300.0</td>\n",
       "      <td>5</td>\n",
       "      <td>0</td>\n",
       "      <td>0</td>\n",
       "      <td>0</td>\n",
       "      <td>0.0</td>\n",
       "    </tr>\n",
       "    <tr>\n",
       "      <th>4</th>\n",
       "      <td>1</td>\n",
       "      <td>0.907239</td>\n",
       "      <td>49</td>\n",
       "      <td>1</td>\n",
       "      <td>0.024926</td>\n",
       "      <td>63588.0</td>\n",
       "      <td>7</td>\n",
       "      <td>0</td>\n",
       "      <td>1</td>\n",
       "      <td>0</td>\n",
       "      <td>0.0</td>\n",
       "    </tr>\n",
       "  </tbody>\n",
       "</table>\n",
       "</div>"
      ],
      "text/plain": [
       "   SeriousDlqin2yrs  RevolvingUtilizationOfUnsecuredLines  age  \\\n",
       "0                 0                              0.766127   45   \n",
       "1                 1                              0.957151   40   \n",
       "2                 1                              0.658180   38   \n",
       "3                 1                              0.233810   30   \n",
       "4                 1                              0.907239   49   \n",
       "\n",
       "   NumberOfTime30-59DaysPastDueNotWorse  DebtRatio  MonthlyIncome  \\\n",
       "0                                     2   0.802982         9120.0   \n",
       "1                                     0   0.121876         2600.0   \n",
       "2                                     1   0.085113         3042.0   \n",
       "3                                     0   0.036050         3300.0   \n",
       "4                                     1   0.024926        63588.0   \n",
       "\n",
       "   NumberOfOpenCreditLinesAndLoans  NumberOfTimes90DaysLate  \\\n",
       "0                               13                        0   \n",
       "1                                4                        0   \n",
       "2                                2                        1   \n",
       "3                                5                        0   \n",
       "4                                7                        0   \n",
       "\n",
       "   NumberRealEstateLoansOrLines  NumberOfTime60-89DaysPastDueNotWorse  \\\n",
       "0                             6                                     0   \n",
       "1                             0                                     0   \n",
       "2                             0                                     0   \n",
       "3                             0                                     0   \n",
       "4                             1                                     0   \n",
       "\n",
       "   NumberOfDependents  \n",
       "0                 2.0  \n",
       "1                 1.0  \n",
       "2                 0.0  \n",
       "3                 0.0  \n",
       "4                 0.0  "
      ]
     },
     "execution_count": 5,
     "metadata": {},
     "output_type": "execute_result"
    }
   ],
   "source": [
    "credits_df.head()"
   ]
  },
  {
   "cell_type": "code",
   "execution_count": 6,
   "metadata": {},
   "outputs": [],
   "source": [
    "target = \"SeriousDlqin2yrs\""
   ]
  },
  {
   "cell_type": "code",
   "execution_count": 7,
   "metadata": {},
   "outputs": [],
   "source": [
    "X = credits_df.drop(columns=target)\n",
    "y = credits_df[target]\n",
    "\n",
    "X_train_credit, X_test_credit, y_train_credit, y_test_credit = train_test_split(\n",
    "    X, y, test_size=0.3, random_state=42)"
   ]
  },
  {
   "cell_type": "code",
   "execution_count": 8,
   "metadata": {},
   "outputs": [
    {
     "data": {
      "text/plain": [
       "1    0.930514\n",
       "0    0.069486\n",
       "Name: SeriousDlqin2yrs, dtype: float64"
      ]
     },
     "execution_count": 8,
     "metadata": {},
     "output_type": "execute_result"
    }
   ],
   "source": [
    "y.value_counts(normalize=True)"
   ]
  },
  {
   "cell_type": "markdown",
   "metadata": {},
   "source": [
    "We see this dataset has 93% of positive cases, that is, 93% of the people in the dataset have finantial distress after 2 years.\n",
    "\n",
    "Lets train a logistic classifier on this dataset."
   ]
  },
  {
   "cell_type": "code",
   "execution_count": 9,
   "metadata": {},
   "outputs": [],
   "source": [
    "model = LogisticRegression()\n",
    "\n",
    "model.fit(X_train_credit, y_train_credit)\n",
    "\n",
    "predictions_credit = model.predict(X_test_credit)\n",
    "true_classes_credit = y_test_credit\n",
    "prediction_probabilities_credit = model.predict_proba(X_test_credit)"
   ]
  },
  {
   "cell_type": "markdown",
   "metadata": {},
   "source": [
    "Now we evaluate the model"
   ]
  },
  {
   "cell_type": "code",
   "execution_count": 10,
   "metadata": {},
   "outputs": [
    {
     "name": "stdout",
     "output_type": "stream",
     "text": [
      "\n",
      "    Accuracy: 0.930\n",
      "    Precision: 0.931\n",
      "    Recall: 0.999\n",
      "    AUC: 0.504\n",
      "    F1 Score: 0.964\n",
      "    \n"
     ]
    }
   ],
   "source": [
    "evaluate_model(true_classes_credit, predictions_credit)"
   ]
  },
  {
   "cell_type": "markdown",
   "metadata": {},
   "source": [
    "We see that most metrics seem pretty good.  We see accuracy, precision, recall and F1 are high, why is that? \n",
    "\n",
    "We have to remember, **93% of the observations are of the positive class and only 7% of observations are negatives**. We call this **imbalanced classes**. Training on class imbalance means that the model is giving more wait to the positive class, choosing to assign a 1 whenever possible. "
   ]
  },
  {
   "cell_type": "code",
   "execution_count": 11,
   "metadata": {},
   "outputs": [],
   "source": [
    "def roc_curve(true_classes, predictions, prediction_probabilities):\n",
    "    fpr, tpr, _ = metrics.roc_curve(true_classes, prediction_probabilities[:,1])\n",
    "    roc_auc = metrics.roc_auc_score(true_classes, predictions)\n",
    "\n",
    "    sns.mpl.pyplot.fill_between(fpr, tpr, step='post', alpha=0.2,color='b')\n",
    "    sns.lineplot(x=fpr, y=tpr, linestyle='--', label='ROC Curve(area = %0.2f)' % roc_auc)\n",
    "    sns.lineplot(x=[0,1], y= [0,1], linestyle='--', label = 'Random Classifier')\n",
    "    \n",
    "    sns.mpl.pyplot.xlabel('FPR')\n",
    "    sns.mpl.pyplot.ylabel('TPR (recall)')\n",
    "    sns.mpl.pyplot.title('ROC Curve')"
   ]
  },
  {
   "cell_type": "code",
   "execution_count": 12,
   "metadata": {},
   "outputs": [
    {
     "data": {
      "image/png": "[encoded data removed]",
      "text/plain": [
       "<Figure size 432x432 with 1 Axes>"
      ]
     },
     "metadata": {},
     "output_type": "display_data"
    }
   ],
   "source": [
    "roc_curve(true_classes_credit, predictions_credit, prediction_probabilities_credit)"
   ]
  },
  {
   "cell_type": "markdown",
   "metadata": {},
   "source": [
    "We see the Area Under the Curve is very low (almost the same as flipping a coin)"
   ]
  },
  {
   "cell_type": "code",
   "execution_count": 13,
   "metadata": {},
   "outputs": [
    {
     "data": {
      "text/plain": [
       "array([[   21,  2497],\n",
       "       [   17, 33546]])"
      ]
     },
     "execution_count": 13,
     "metadata": {},
     "output_type": "execute_result"
    }
   ],
   "source": [
    "confusion_matrix(y_test_credit, predictions_credit)"
   ]
  },
  {
   "cell_type": "markdown",
   "metadata": {},
   "source": [
    "We see there are very few Negative observations classified as Negative. But because there are so few Negative observations the metrics that rely on Positive classes are very high."
   ]
  },
  {
   "cell_type": "markdown",
   "metadata": {
    "collapsed": true
   },
   "source": [
    "## <font color='#eb3483'> What is our baseline? </font>\n",
    "\n",
    "It would be easy to look at the metrics and think our model is good. However, it is always importante to compare the performance of our models with a reasonable baseline.\n",
    "\n",
    "A reasonable baseline would be a classifier that always predicted the majority class.\n",
    "\n",
    "What would be the performance of this classifier?"
   ]
  },
  {
   "cell_type": "code",
   "execution_count": 14,
   "metadata": {},
   "outputs": [
    {
     "name": "stdout",
     "output_type": "stream",
     "text": [
      "\n",
      "    Accuracy: 0.930\n",
      "    Precision: 0.930\n",
      "    Recall: 1.000\n",
      "    AUC: 0.500\n",
      "    F1 Score: 0.964\n",
      "    \n"
     ]
    }
   ],
   "source": [
    "predictions_positive_model = np.ones(true_classes_credit.shape[0])\n",
    "evaluate_model(true_classes_credit, predictions_positive_model)"
   ]
  },
  {
   "cell_type": "markdown",
   "metadata": {
    "collapsed": true
   },
   "source": [
    "We see that a model always predicting 1s would have very good performance, except for AUC, that would be the worst possible. That is why for imbalanced datasets, AUC is a much better metric."
   ]
  },
  {
   "cell_type": "markdown",
   "metadata": {},
   "source": [
    "\n",
    "\n",
    "## <font color='#eb3483'> How can we decide a threshold? </font>"
   ]
  },
  {
   "cell_type": "code",
   "execution_count": 15,
   "metadata": {},
   "outputs": [],
   "source": [
    "model = LogisticRegression()\n",
    "model.fit(X_train_credit, y_train_credit)\n",
    "\n",
    "predictions = model.predict(X_test_credit)\n",
    "true_classes = y_test_credit\n",
    "prediction_probabilities = model.predict_proba(X_test_credit)"
   ]
  },
  {
   "cell_type": "code",
   "execution_count": 16,
   "metadata": {},
   "outputs": [
    {
     "data": {
      "text/plain": [
       "array([[0.07682023, 0.92317977],\n",
       "       [0.18285352, 0.81714648],\n",
       "       [0.11635433, 0.88364567],\n",
       "       [0.14544341, 0.85455659],\n",
       "       [0.02953009, 0.97046991]])"
      ]
     },
     "execution_count": 16,
     "metadata": {},
     "output_type": "execute_result"
    }
   ],
   "source": [
    "probabilities = model.predict_proba(X_test_credit)[:5]\n",
    "probabilities"
   ]
  },
  {
   "cell_type": "markdown",
   "metadata": {},
   "source": [
    "We can filter the probabilities based on a threshold and get False if the predicted class is a 0 or True if its a 1"
   ]
  },
  {
   "cell_type": "code",
   "execution_count": 17,
   "metadata": {},
   "outputs": [
    {
     "data": {
      "text/plain": [
       "array([ True,  True,  True,  True,  True])"
      ]
     },
     "execution_count": 17,
     "metadata": {},
     "output_type": "execute_result"
    }
   ],
   "source": [
    "threshold = 0.5\n",
    "probabilities[:,1]>=threshold"
   ]
  },
  {
   "cell_type": "markdown",
   "metadata": {},
   "source": [
    "For example, if we lower the threshold (meaning we are going to *\"lower the bar\"* and being less picky when we classify a case as positive, effectively classifying everyone as positive)"
   ]
  },
  {
   "cell_type": "code",
   "execution_count": 18,
   "metadata": {},
   "outputs": [
    {
     "data": {
      "text/plain": [
       "array([ True,  True,  True,  True,  True])"
      ]
     },
     "execution_count": 18,
     "metadata": {},
     "output_type": "execute_result"
    }
   ],
   "source": [
    "threshold = 0.1\n",
    "probabilities[:,1]>=threshold"
   ]
  },
  {
   "cell_type": "markdown",
   "metadata": {},
   "source": [
    "We have a way to given a threshold, transform probabilities to classes. \n",
    "\n",
    "Now we just have to define a way to translate business decisions into a threshold.\n",
    "\n",
    "What do we mean by that? For any machine learning systems, there are costs to both false positives and false negatives.\n",
    "\n",
    "For example, if we think about the Breast Cancer Dataset:\n",
    "\n",
    "- If our classifier predicts a person has a malignant cancer when they dont (*False positive*), they will feel devastated and if they (or we) realize of the mistake, they might sue us! Or maybe they would feel very relieved, so it would be ok?.\n",
    "\n",
    "- If our classifier predicts that a person has a benign cancer when they actually have a malignant one (*False Negative*), if that person dies, we are probably going to be sued, lose our practice license, or both.\n",
    "\n",
    "In that example, the cost of a False Positive is probably lower than a False Negative, so we should use a threshold lower than 0.5.\n",
    "\n",
    "If we can assign a numerical value (a cost) to a False Positive and a False Negative, we can use a function to turn them into a threshold. For example, we can use the *SoftMax* function, which we will see in the future."
   ]
  },
  {
   "cell_type": "code",
   "execution_count": 19,
   "metadata": {},
   "outputs": [
    {
     "data": {
      "text/plain": [
       "0.7310585786300049"
      ]
     },
     "execution_count": 19,
     "metadata": {},
     "output_type": "execute_result"
    }
   ],
   "source": [
    "def softmax(cost_fp, cost_fn):\n",
    "    return np.exp(cost_fp) / (np.exp(cost_fn)+np.exp(cost_fp))\n",
    "\n",
    "cost_fn = 1\n",
    "cost_fp = 2 #a false positive is twice as bad as a false negative on this example\n",
    "softmax(cost_fp, cost_fn)"
   ]
  },
  {
   "cell_type": "markdown",
   "metadata": {},
   "source": [
    "We can use a widget to see how the threshold changes with the cost"
   ]
  },
  {
   "cell_type": "code",
   "execution_count": 20,
   "metadata": {
    "scrolled": true
   },
   "outputs": [
    {
     "data": {
      "application/vnd.jupyter.widget-view+json": {
       "model_id": "54d49445b3fc475e9e176247020e3aff",
       "version_major": 2,
       "version_minor": 0
      },
      "text/plain": [
       "interactive(children=(FloatSlider(value=1.0, description='cost_fp', max=10.0, min=1.0), FloatSlider(value=1.0,…"
      ]
     },
     "metadata": {},
     "output_type": "display_data"
    }
   ],
   "source": [
    "from ipywidgets import widgets, interact\n",
    "\n",
    "@interact\n",
    "def calculate_threshold(\n",
    "    cost_fp=widgets.FloatSlider(min=1, max=10, step=0.1, value=1),\n",
    "    cost_fn=widgets.FloatSlider(min=1, max=10, step=0.1, value=1),\n",
    "):\n",
    "    return softmax(cost_fp, cost_fn)"
   ]
  },
  {
   "cell_type": "code",
   "execution_count": 21,
   "metadata": {},
   "outputs": [],
   "source": [
    "#Our probabilities to classes function from class\n",
    "def probabilities_to_classes(prediction_probabilities, threshold=0.5):\n",
    "    predictions = np.zeros([len(prediction_probabilities), ])\n",
    "    predictions[prediction_probabilities[:,1]>=threshold] = 1\n",
    "    return predictions"
   ]
  },
  {
   "cell_type": "code",
   "execution_count": 22,
   "metadata": {},
   "outputs": [
    {
     "name": "stdout",
     "output_type": "stream",
     "text": [
      "0.0001233945759862317\n"
     ]
    },
    {
     "data": {
      "text/plain": [
       "array([1., 1., 1., 1., 1.])"
      ]
     },
     "execution_count": 22,
     "metadata": {},
     "output_type": "execute_result"
    }
   ],
   "source": [
    "cost_fn = 10\n",
    "cost_fp = 1\n",
    "threshold = calculate_threshold(cost_fp, cost_fn)\n",
    "print(threshold)\n",
    "predicted_classes = probabilities_to_classes(probabilities, threshold)\n",
    "predicted_classes"
   ]
  },
  {
   "cell_type": "markdown",
   "metadata": {},
   "source": [
    "One great thing about scikit-learn is that we can expand the existing classes.\n",
    "\n",
    "For example, we can expand the class `LogisticRegression` and add a method that takes into acount the business costs of false positives and false negatives."
   ]
  },
  {
   "cell_type": "code",
   "execution_count": 23,
   "metadata": {},
   "outputs": [
    {
     "data": {
      "text/plain": [
       "BusinessLogisticRegression(C=1.0, class_weight=None, dual=False,\n",
       "                           fit_intercept=True, intercept_scaling=1,\n",
       "                           l1_ratio=None, max_iter=100, multi_class='auto',\n",
       "                           n_jobs=None, penalty='l2', random_state=None,\n",
       "                           solver='lbfgs', tol=0.0001, verbose=0,\n",
       "                           warm_start=False)"
      ]
     },
     "execution_count": 23,
     "metadata": {},
     "output_type": "execute_result"
    }
   ],
   "source": [
    "class BusinessLogisticRegression(LogisticRegression):\n",
    "        \n",
    "    def business_decision(self, X, cost_fp=1, cost_fn=1, *args, **kwargs):\n",
    "        probabilities = self.predict_proba(X)\n",
    "        threshold = calculate_threshold(cost_fp, cost_fn)\n",
    "        print(\"Threshold: {}\".format(threshold))\n",
    "        predicted_classes = probabilities_to_classes(probabilities, threshold)\n",
    "        return predicted_classes\n",
    "        \n",
    "business_decision_model = BusinessLogisticRegression()\n",
    "\n",
    "business_decision_model.fit(X_train_credit, y_train_credit)        "
   ]
  },
  {
   "cell_type": "code",
   "execution_count": 24,
   "metadata": {},
   "outputs": [
    {
     "data": {
      "text/plain": [
       "array([1, 1, 1, 1, 1])"
      ]
     },
     "execution_count": 24,
     "metadata": {},
     "output_type": "execute_result"
    }
   ],
   "source": [
    "business_decision_model.predict(X_test_credit[:5])"
   ]
  },
  {
   "cell_type": "code",
   "execution_count": 25,
   "metadata": {},
   "outputs": [
    {
     "data": {
      "text/plain": [
       "array([[0.07682023, 0.92317977],\n",
       "       [0.18285352, 0.81714648],\n",
       "       [0.11635433, 0.88364567],\n",
       "       [0.14544341, 0.85455659],\n",
       "       [0.02953009, 0.97046991]])"
      ]
     },
     "execution_count": 25,
     "metadata": {},
     "output_type": "execute_result"
    }
   ],
   "source": [
    "business_decision_model.predict_proba(X_test_credit[:5])"
   ]
  },
  {
   "cell_type": "code",
   "execution_count": 26,
   "metadata": {},
   "outputs": [
    {
     "name": "stdout",
     "output_type": "stream",
     "text": [
      "Threshold: [0.5]\n"
     ]
    },
    {
     "data": {
      "text/plain": [
       "array([1., 1., 1., 1., 1.])"
      ]
     },
     "execution_count": 26,
     "metadata": {},
     "output_type": "execute_result"
    }
   ],
   "source": [
    "cost_fp=1, \n",
    "cost_fn=1\n",
    "business_decision_model.business_decision(X_test_credit[:5], cost_fp, cost_fn)"
   ]
  },
  {
   "cell_type": "code",
   "execution_count": 27,
   "metadata": {},
   "outputs": [
    {
     "data": {
      "application/vnd.jupyter.widget-view+json": {
       "model_id": "ecf199559b254ecb8c13047ebfe26bf2",
       "version_major": 2,
       "version_minor": 0
      },
      "text/plain": [
       "interactive(children=(FloatSlider(value=1.0, description='cost_fp', max=10.0, min=1.0), FloatSlider(value=1.0,…"
      ]
     },
     "metadata": {},
     "output_type": "display_data"
    }
   ],
   "source": [
    "@interact(\n",
    "    cost_fp=widgets.FloatSlider(min=1.,max=10.,step=.1,value=1.),\n",
    "    cost_fn=widgets.FloatSlider(min=1.,max=10.,step=.1,value=1.)\n",
    ")\n",
    "def business_decision(cost_fp, cost_fn):\n",
    "    predictions = business_decision_model.business_decision(X_test_credit, cost_fp, cost_fn)\n",
    "    print(confusion_matrix(true_classes, predictions))"
   ]
  }
 ],
 "metadata": {
  "kernelspec": {
   "display_name": "Python 3",
   "language": "python",
   "name": "python3"
  },
  "language_info": {
   "codemirror_mode": {
    "name": "ipython",
    "version": 3
   },
   "file_extension": ".py",
   "mimetype": "text/x-python",
   "name": "python",
   "nbconvert_exporter": "python",
   "pygments_lexer": "ipython3",
   "version": "3.7.7"
  }
 },
 "nbformat": 4,
 "nbformat_minor": 4
}
