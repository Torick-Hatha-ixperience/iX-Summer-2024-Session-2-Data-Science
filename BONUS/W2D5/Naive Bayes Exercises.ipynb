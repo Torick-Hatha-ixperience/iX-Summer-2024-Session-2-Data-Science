{
 "cells": [
  {
   "cell_type": "markdown",
   "metadata": {},
   "source": [
    "# <font color='#eb3483'> Naive Bayes Exercises </font>\n",
    "\n",
    "It's time for you to build your own Naive Bayes Classifer! We're going to use the same dataset as our decision tree and svm exercises, and see if we can do better using Naive Bayes. Note that in practice, Naive Bayes is usually used for text classification, but it can be used for other classification tasks too!\n",
    "\n",
    "Start by loading in the winne data set from sklearn and get itready for machine learning with scikit-learn (i.e. break into X, Y). I would just copy over my code from the decision tree exercise."
   ]
  },
  {
   "cell_type": "code",
   "execution_count": null,
   "metadata": {},
   "outputs": [],
   "source": []
  },
  {
   "cell_type": "markdown",
   "metadata": {},
   "source": [
    "### <font color='#eb3483'> Exercise 1 </font>\n",
    "\n",
    "Build a Naive Bayes Classifier for the wine data using any of the different versions, and get a cross-validated score of it's accuracy."
   ]
  },
  {
   "cell_type": "code",
   "execution_count": null,
   "metadata": {
    "scrolled": true
   },
   "outputs": [],
   "source": []
  },
  {
   "cell_type": "markdown",
   "metadata": {},
   "source": [
    "### <font color='#eb3483'> Exercise 2 </font>\n",
    "\n",
    "Try out the other two different NB classifers in scikit learn - does one perform better than the others?"
   ]
  },
  {
   "cell_type": "code",
   "execution_count": null,
   "metadata": {},
   "outputs": [],
   "source": []
  },
  {
   "cell_type": "markdown",
   "metadata": {},
   "source": [
    "### <font color='#eb3483'> Exercise 3 </font>\n",
    "\n",
    "One parameter we can set in a naive bayes model is the 'prior' distribution over classes (i.e. what we expect to be the chance a data point comes from each class). Try setting the prior parameter in your best performing model to the value counts of each class from our dataset. Does it change the performance?"
   ]
  },
  {
   "cell_type": "code",
   "execution_count": null,
   "metadata": {},
   "outputs": [],
   "source": []
  }
 ],
 "metadata": {
  "kernelspec": {
   "display_name": "Python 3",
   "language": "python",
   "name": "python3"
  },
  "language_info": {
   "codemirror_mode": {
    "name": "ipython",
    "version": 3
   },
   "file_extension": ".py",
   "mimetype": "text/x-python",
   "name": "python",
   "nbconvert_exporter": "python",
   "pygments_lexer": "ipython3",
   "version": "3.8.2"
  }
 },
 "nbformat": 4,
 "nbformat_minor": 4
}
