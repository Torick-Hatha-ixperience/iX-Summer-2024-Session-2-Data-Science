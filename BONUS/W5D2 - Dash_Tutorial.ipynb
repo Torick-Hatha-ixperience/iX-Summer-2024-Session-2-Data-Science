{
 "cells": [
  {
   "cell_type": "markdown",
   "metadata": {
    "colab_type": "text",
    "id": "VrW1fsTbHtSy"
   },
   "source": [
    "<img src=https://www.pngkit.com/png/full/861-8618685_numfocus-plotly-dash-logo.png alt=\"logo\" width=\"400\"/>\n",
    "\n",
    "# Introduction\n",
    "\n",
    "Dash is a library for creating interactive dashboards in python. The [documentation](https://dash.plotly.com/) is excellent, but examples can be a little verbose and hard to read. It is also designed to run as a server and to make the dashboards available via a web browser - this can be a little confusing at first.\n",
    "\n",
    "To make life easier, we can use the newly-released jupyter-dash to see the figures within our notebook, and to slowly build up the complexity of our demos.\n",
    "\n",
    "You can run this using Google Colab, but if you'd like to follow along make sure you install the necessary libraries with \n",
    "`conda install -c conda-forge -c plotly jupyter-dash` or `pip install jupyter-dash`.\n",
    "\n",
    "To keep things moving swiftly, we'll use the data from Tuesday's deep learning demo. Skim past the setup and data sections and let's get plotting!"
   ]
  },
  {
   "cell_type": "markdown",
   "metadata": {
    "colab_type": "text",
    "id": "CGU0dd3izIdZ"
   },
   "source": [
    "# Setup"
   ]
  },
  {
   "cell_type": "code",
   "execution_count": null,
   "metadata": {
    "colab": {},
    "colab_type": "code",
    "id": "FjWSL95XTnEy"
   },
   "outputs": [],
   "source": [
    "# Install the library we'll be using\n",
    "#!pip install jupyter-dash -q"
   ]
  },
  {
   "cell_type": "code",
   "execution_count": null,
   "metadata": {},
   "outputs": [],
   "source": [
    "import sys\n",
    "print(sys.version)"
   ]
  },
  {
   "cell_type": "markdown",
   "metadata": {
    "colab_type": "text",
    "id": "pI40-jwmzK9X"
   },
   "source": [
    "# Getting the data\n",
    "\n",
    "You can upload the diabetes.csv file by running the code below to read the data from a URL - a useful technique."
   ]
  },
  {
   "cell_type": "code",
   "execution_count": null,
   "metadata": {
    "colab": {},
    "colab_type": "code",
    "id": "vS3UggcZUeUz"
   },
   "outputs": [],
   "source": [
    "import pandas as pd"
   ]
  },
  {
   "cell_type": "code",
   "execution_count": null,
   "metadata": {
    "colab": {
     "base_uri": "https://localhost:8080/",
     "height": 221
    },
    "colab_type": "code",
    "id": "oOcdQO0ZVLnS",
    "outputId": "2c82b5b1-f0fa-458d-fe32-4ba0914b0ec6"
   },
   "outputs": [],
   "source": [
    "df = pd.read_csv('https://raw.githubusercontent.com/surabhim/Diabetes/master/Diabetes.csv', skiprows=9, \n",
    "                 names=['Pregnancies', 'Glucose', 'BloodPressure', 'SkinThickness', 'Insulin',\n",
    "                 'BMI', 'DiabetesPedigreeFunction', 'Age', 'Outcome']) # or read data/diabetes.csv from Tuesday\n",
    "print(df.shape)\n",
    "df.head()"
   ]
  },
  {
   "cell_type": "markdown",
   "metadata": {
    "colab_type": "text",
    "id": "qeqA1GCPFAvK"
   },
   "source": [
    "For some background, the columns definitions (from the original file):\n",
    "1. Number of times pregnant\n",
    "2. Plasma glucose concentration a 2 hours in an oral glucose tolerance test\n",
    "3. Diastolic blood pressure (mm Hg)\n",
    "4. Triceps skin fold thickness (mm)\n",
    "5. 2-Hour serum insulin (mu U/ml)\n",
    "6. Body mass index (weight in kg/(height in m)^2)\n",
    "7. Diabetes pedigree function\n",
    "8. Age (years)\n",
    "9. Class variable (0 or 1)\n",
    "\n",
    "Now, we could start exploring and plotting with seaborn, but that's not our goal today - let's see if we can make some interactive visuals!"
   ]
  },
  {
   "cell_type": "markdown",
   "metadata": {
    "colab_type": "text",
    "id": "2TOSs1qwzXgU"
   },
   "source": [
    "# Our first figure\n",
    "\n",
    "Let's try out first figure:"
   ]
  },
  {
   "cell_type": "code",
   "execution_count": null,
   "metadata": {
    "colab": {},
    "colab_type": "code",
    "id": "5x2cdiRAsKHF"
   },
   "outputs": [],
   "source": [
    "# Import the necessary libraries:\n",
    "import plotly.express as px\n",
    "from jupyter_dash import JupyterDash\n",
    "import dash_core_components as dcc\n",
    "import dash_html_components as html\n",
    "from dash.dependencies import Input, Output, State\n",
    "\n",
    "# If on Colab et al, run:\n",
    "#JupyterDash.infer_jupyter_proxy_config()"
   ]
  },
  {
   "cell_type": "code",
   "execution_count": null,
   "metadata": {
    "colab": {
     "base_uri": "https://localhost:8080/",
     "height": 671
    },
    "colab_type": "code",
    "id": "i5O83JaOsKFQ",
    "outputId": "263efa4d-3430-47d2-9a14-3afaaaca3b46"
   },
   "outputs": [],
   "source": [
    "# Build the App\n",
    "app = JupyterDash(__name__)\n",
    "app.layout = html.Div([\n",
    "    html.H1(\"JupyterDash Demo 1 - Using HTML components!\"),\n",
    "    dcc.Graph(id='graph1',\n",
    "      figure=px.scatter(\n",
    "          df, # Specify the dataframe\n",
    "          x=\"BloodPressure\", \n",
    "          y=\"BMI\",\n",
    "          title=\"BP vs BMI\",\n",
    "          color='Glucose' # We can add color or size options...\n",
    "      )\n",
    "    ),\n",
    "])\n",
    "\n",
    "# Run app and display result inline in the notebook\n",
    "app.run_server(mode='inline')"
   ]
  },
  {
   "cell_type": "markdown",
   "metadata": {
    "colab_type": "text",
    "id": "Md2PFn-Ezgtr"
   },
   "source": [
    "Pretty neat, right? Try zooming in, or hovering over specific data points.\n",
    "But this is still a lot more trouble than seaborn/matplotlib/... Why exactly is this so great?"
   ]
  },
  {
   "cell_type": "code",
   "execution_count": null,
   "metadata": {
    "colab": {
     "base_uri": "https://localhost:8080/",
     "height": 51
    },
    "colab_type": "code",
    "id": "9kTZXUlmFtQu",
    "outputId": "d82593f5-026e-4ea0-e278-02136edec605"
   },
   "outputs": [],
   "source": [
    "app.run_server(mode='external') # See it as it's own separate webpage!"
   ]
  },
  {
   "cell_type": "markdown",
   "metadata": {
    "colab_type": "text",
    "id": "TJvrN1SNGGrK"
   },
   "source": [
    "Dash is designed to create interactive dashboards, not just to render static plots and display them in Jupyter. Behing the scenes it uses Flask, a web application framework. This means we can (quite) easily get our dash apps online to share with others! More on this later.\n",
    "\n",
    "We can also use HTML components to arrange and style our dashboards. Notice the heading - html.H1 should ring a bell for anyone who has done web dev."
   ]
  },
  {
   "cell_type": "markdown",
   "metadata": {
    "colab_type": "text",
    "id": "aUrh4KWQzoid"
   },
   "source": [
    "# Make it interactive!\n",
    "\n",
    "We keep saying 'interactive'... is this just a fancy way of selling the fact that we can now zoom in to our plots? \n",
    "\n",
    "Not quite :) Dash uses something called 'Callbacks' to let different parts of our dashboard talk to eachother, enabling a lot more interaction."
   ]
  },
  {
   "cell_type": "code",
   "execution_count": null,
   "metadata": {
    "colab": {
     "base_uri": "https://localhost:8080/",
     "height": 671
    },
    "colab_type": "code",
    "id": "9Dv1C_ZCzoIo",
    "outputId": "6d66bf40-7253-44f4-ec91-0ddd1d88afec"
   },
   "outputs": [],
   "source": [
    "# Build App\n",
    "app = JupyterDash(__name__)\n",
    "app.layout = html.Div([\n",
    "    html.H1(\"JupyterDash Demo 2 - Callbacks and interactivity\"),\n",
    "    dcc.Graph(id='graph1'), # We'll update the figure in the callback. The id is used to modify this component.\n",
    "    html.Label([\n",
    "        \"X Axis\",\n",
    "        dcc.Dropdown(\n",
    "            id='x-axis-dropdown', clearable=False,\n",
    "            value='BloodPressure', options=[\n",
    "                {'label': c, 'value': c}\n",
    "                for c in df.columns\n",
    "            ])\n",
    "    ]),\n",
    "])\n",
    "\n",
    "# Callbacks!\n",
    "# Define callback to update graph\n",
    "@app.callback(\n",
    "    Output('graph1', 'figure'), # What are we updating?\n",
    "    [Input(\"x-axis-dropdown\", \"value\")] # What triggers an update?\n",
    ")\n",
    "def update_figure(chosen_x): \n",
    "    figure=px.scatter(\n",
    "          df, # Specify the dataframe\n",
    "          x=chosen_x, # The argument is determined by the input(s) - the \"value\" of the dropdown will be passes as chosen_x\n",
    "          y=\"BMI\",\n",
    "          title=chosen_x + \" vs BMI\"\n",
    "      )\n",
    "    return figure\n",
    "\n",
    "# Run app and display result inline in the notebook\n",
    "app.run_server(mode='inline')"
   ]
  },
  {
   "cell_type": "markdown",
   "metadata": {
    "colab_type": "text",
    "id": "8FCfVrzEOkEK"
   },
   "source": [
    "Now we're interactive! What's going on here?\n",
    "\n",
    "The function `update_figure(chosen_x)` creates a figure with the chosen variable as the X axis and BMI on the y axis. We'd like to change the X axis with a dropdown (a standard html component)\n",
    "\n",
    "Rather than having a loop continually checking the dropdown value, we trigger a callback when it's value changes.\n",
    "\n",
    "When the callback is triggered by one of it's inputs changing, it modified the output - in this case, the figure attribute of our graph component. We can use this to modify our figures in response to user input, or to react to actions like hover, select etc in our plot."
   ]
  },
  {
   "cell_type": "markdown",
   "metadata": {
    "colab_type": "text",
    "id": "bdKPMBrW0Px5"
   },
   "source": [
    "# Callbacks 2: Getting Fancy with States\n",
    "\n",
    "We can add multiple callbacks, and each can take one or more inputs. Callbacks can also receive 'states' to access any additional info they may need from other components. Take a look at the docs - pretty much anything can be used to trigger a callback!\n",
    "\n",
    "This example is a modified version of the previous one, where we add a second input to our callback to modify the y axis. We also try out a State, and see how it's different from an input."
   ]
  },
  {
   "cell_type": "code",
   "execution_count": null,
   "metadata": {
    "colab": {
     "base_uri": "https://localhost:8080/",
     "height": 671
    },
    "colab_type": "code",
    "id": "xAB4CU55I6Z6",
    "outputId": "8ec86437-006b-4f00-8233-94b9413d8b5a"
   },
   "outputs": [],
   "source": [
    "# Build App\n",
    "app = JupyterDash(__name__)\n",
    "app.layout = html.Div([\n",
    "    html.H1(\"JupyterDash Demo 2.1 - More Callbacks\"),\n",
    "    dcc.Graph(id='graph1'), # We'll update the figure in the callback. The id is used to modify this component.\n",
    "    html.Label([\n",
    "        \"X Axis\",\n",
    "        dcc.Dropdown(\n",
    "            id='x-axis-dropdown', clearable=False,\n",
    "            value='BloodPressure', options=[\n",
    "                {'label': c, 'value': c}\n",
    "                for c in df.columns\n",
    "            ])\n",
    "    ]),\n",
    "    html.Label([\n",
    "        \"Y Axis\",\n",
    "        dcc.Dropdown(\n",
    "            id='y-axis-dropdown', clearable=False,\n",
    "            value='Glucose', options=[\n",
    "                {'label': c, 'value': c}\n",
    "                for c in df.columns\n",
    "            ])\n",
    "    ]),\n",
    "    html.Label([\n",
    "        \"Colour By\",\n",
    "        dcc.Dropdown(\n",
    "            id='color-dropdown', clearable=False,\n",
    "            value='BMI', options=[\n",
    "                {'label': c, 'value': c}\n",
    "                for c in df.columns\n",
    "            ])\n",
    "    ]),\n",
    "])\n",
    "\n",
    "# Callbacks\n",
    "\n",
    "# Define callback to update graph\n",
    "@app.callback(\n",
    "    Output('graph1', 'figure'), # What are we updating?\n",
    "    [Input(\"x-axis-dropdown\", \"value\"), Input(\"y-axis-dropdown\", \"value\")], # What triggers an update?\n",
    "    [State('color-dropdown', 'value')] # We could use an input instead. How does this affect behaviour?\n",
    ")\n",
    "def update_figure(chosen_x, chosen_y, color_by): \n",
    "    figure=px.scatter(\n",
    "          df, # Specify the dataframe\n",
    "          x=chosen_x, # The argument is determined by the input(s) - the \"value\" of the dropdown will be passes as chosen_x\n",
    "          y=chosen_y,\n",
    "          title=chosen_x + \" vs \" + chosen_y,\n",
    "          color=color_by\n",
    "      )\n",
    "    return figure\n",
    "\n",
    "# Run app and display result inline in the notebook\n",
    "app.run_server(mode='inline')"
   ]
  },
  {
   "cell_type": "markdown",
   "metadata": {
    "colab_type": "text",
    "id": "mIGY7RnC0QZR"
   },
   "source": [
    "# Multiple figures\n",
    "There is no reason we can't make multiple figures and arrange them however we like. Here's an example:"
   ]
  },
  {
   "cell_type": "code",
   "execution_count": null,
   "metadata": {
    "colab": {
     "base_uri": "https://localhost:8080/",
     "height": 671
    },
    "colab_type": "code",
    "id": "1bemXvq10T8e",
    "outputId": "572e4d0c-8668-487e-b14e-4494ab5e6549"
   },
   "outputs": [],
   "source": [
    "# Build App\n",
    "app = JupyterDash(__name__, external_stylesheets=['https://codepen.io/chriddyp/pen/bWLwgP.css'])\n",
    "app.layout = html.Div([\n",
    "    html.H1(\"JupyterDash Demo 3 - Multiple Figures!\"),\n",
    "    html.Div(className=\"row\", style={ 'width':'100%'}, children=[\n",
    "        html.Div(\n",
    "            dcc.Graph(id='graph2',\n",
    "              figure=px.scatter(\n",
    "                  df, # Specify the dataframe\n",
    "                  x=\"SkinThickness\", \n",
    "                  y=\"Insulin\",\n",
    "                  title=\"SkinThickness vs Insulin\"\n",
    "              ),\n",
    "            ), style={'display': 'inline-block', 'width':'49%'} # We can use HTML/CSS styling)\n",
    "        ),\n",
    "        html.Div(\n",
    "            dcc.Graph(id='graph3',\n",
    "              figure=px.scatter(\n",
    "                  df, # Specify the dataframe\n",
    "                  x=\"SkinThickness\", \n",
    "                  y=\"Glucose\",\n",
    "                  title=\"SkinThickness vs glucose\"\n",
    "              ),\n",
    "            ), style={'display': 'inline-block', 'width':'49%'} # We can use HTML/CSS styling)\n",
    "        ),\n",
    "    ]),\n",
    "    \n",
    "    dcc.Graph(id='graph1',\n",
    "      figure=px.box(\n",
    "          df, # Specify the dataframe\n",
    "          x=\"Outcome\", \n",
    "          y=\"SkinThickness\",\n",
    "          title=\"Outcomes...\"\n",
    "      )\n",
    "    ),\n",
    "])\n",
    "\n",
    "# Run app and display result inline in the notebook\n",
    "app.run_server(mode='inline')"
   ]
  },
  {
   "cell_type": "markdown",
   "metadata": {
    "colab_type": "text",
    "id": "1HaelhML1iNg"
   },
   "source": [
    "# Keeping Things Organised\n",
    "\n",
    "Dash is very powerful, and it's easy to get started by copying code. However, as you start to add complexity, things can quickly get messy. Even our simple three-graph example above, at ~40 lines of code, is starting to look intimidating. Imagine what it'll look like when we add a few callbacks and some different style options for the user to play with!\n",
    "\n",
    "If you're building anything serious in dash, do yourself a favour and \n",
    "- Comment your code well\n",
    "- Spend time refactoring and making it neat\n",
    "- Give everything clear names\n",
    "- Create reuseable components where possible\n",
    "- Keep the layout from getting cluttered - move as much as possible elsewhere.\n",
    "\n",
    "Let's see a version of the above with a bit more organisation. Notice I'm starting from scratch here - you can re-start the notebook and run this on it's own. You'll see why very soon."
   ]
  },
  {
   "cell_type": "code",
   "execution_count": null,
   "metadata": {
    "colab": {
     "base_uri": "https://localhost:8080/",
     "height": 671
    },
    "colab_type": "code",
    "id": "vb5ovmTh1W-I",
    "outputId": "0c1d8e0e-b7d8-46f3-dd48-d2a55ec333a1"
   },
   "outputs": [],
   "source": [
    "import plotly.express as px\n",
    "from jupyter_dash import JupyterDash\n",
    "import dash_core_components as dcc\n",
    "import dash_html_components as html\n",
    "from dash.dependencies import Input, Output\n",
    "import pandas as pd\n",
    "\n",
    "# LOAD THE DATA\n",
    "df = pd.read_csv('https://raw.githubusercontent.com/surabhim/Diabetes/master/Diabetes.csv', skiprows=9, \n",
    "                 names=['Pregnancies', 'Glucose', 'BloodPressure', 'SkinThickness', 'Insulin',\n",
    "                 'BMI', 'DiabetesPedigreeFunction', 'Age', 'Outcome'])\n",
    "\n",
    "# DEFINE COMPONENTS\n",
    "\n",
    "def scatterplot(id, x, y):\n",
    "  return dcc.Graph(id=id,\n",
    "              figure=px.scatter(\n",
    "                  df,\n",
    "                  x=x, \n",
    "                  y=y,\n",
    "                  title=f\"{x} vs {y}\"\n",
    "              ))\n",
    "\n",
    "def boxplot(id, y):\n",
    "  return dcc.Graph(id='graph1',\n",
    "      figure=px.box(\n",
    "          df, # Specify the dataframe\n",
    "          x=\"Outcome\", \n",
    "          y=y,\n",
    "          title=f\"Distributions of {y} for both outcomes\"\n",
    "      )\n",
    "    )\n",
    "\n",
    "# SPECIFY LAYOUT\n",
    "\n",
    "app = JupyterDash(__name__, external_stylesheets=['https://codepen.io/chriddyp/pen/bWLwgP.css'])\n",
    "app.layout = html.Div([\n",
    "    # Heading\n",
    "    html.H1(\"JupyterDash Demo 3 - Multiple Figures!\"),\n",
    "\n",
    "    # First Row\n",
    "    html.Div(className=\"row\", style={ 'width':'100%'}, children=[\n",
    "        # Two scatter plots\n",
    "        html.Div(scatterplot('scatter_1', 'Glucose', 'BMI'), style={'display': 'inline-block', 'width':'33%'}),\n",
    "        html.Div(scatterplot('scatter_2', 'SkinThickness', 'BMI'), style={'display': 'inline-block', 'width':'33%'}),\n",
    "        # Box plot\n",
    "        html.Div(boxplot('boxplot', 'BMI'), style={'display': 'inline-block', 'width':'33%'})\n",
    "    ]),\n",
    "])\n",
    "\n",
    "# ADD CALLBACKS IF NEEDED\n",
    "# ...\n",
    "\n",
    "# RUN APP\n",
    "app.run_server(mode='inline')"
   ]
  },
  {
   "cell_type": "markdown",
   "metadata": {
    "colab_type": "text",
    "id": "cO_7QwP_QEHC"
   },
   "source": [
    "# Breaking out of Jupyter\n",
    "\n",
    "We can copy the code above into it's own file, replacing JupyterDash with standard dash. This can then be run locally for testing, or deployed to a hosting service with a little extra effort. "
   ]
  },
  {
   "cell_type": "markdown",
   "metadata": {},
   "source": [
    "### Saving to an HTML file"
   ]
  },
  {
   "cell_type": "markdown",
   "metadata": {},
   "source": [
    "Any figure can be saved as an HTML file using the write_html method. These HTML files can be opened in any web browser to access the fully interactive figure."
   ]
  },
  {
   "cell_type": "code",
   "execution_count": null,
   "metadata": {},
   "outputs": [],
   "source": [
    "import plotly.express as px\n",
    "\n",
    "fig =px.scatter(x=range(10), y=range(10))\n",
    "fig.write_html(\"file.html\")"
   ]
  },
  {
   "cell_type": "markdown",
   "metadata": {},
   "source": [
    "### HTML export in Dash"
   ]
  },
  {
   "cell_type": "code",
   "execution_count": null,
   "metadata": {},
   "outputs": [],
   "source": [
    "#before you run the next step you will need to sudo kill the temp server\n",
    "#on Mac you do this via terminal\n",
    "\n",
    "#Find the process using port 8080:\n",
    "#sudo lsof -i:8080\n",
    "#Kill the process on that port:\n",
    "#kill $PID\n",
    "#PID is got from step 1's output."
   ]
  },
  {
   "cell_type": "code",
   "execution_count": null,
   "metadata": {},
   "outputs": [
    {
     "name": "stdout",
     "output_type": "stream",
     "text": [
      "Dash is running on http://127.0.0.1:8050/\n",
      "\n",
      " * Serving Flask app \"__main__\" (lazy loading)\n",
      " * Environment: production\n",
      "\u001b[31m   WARNING: This is a development server. Do not use it in a production deployment.\u001b[0m\n",
      "\u001b[2m   Use a production WSGI server instead.\u001b[0m\n",
      " * Debug mode: on\n"
     ]
    }
   ],
   "source": [
    "import plotly.graph_objects as go # or plotly.express as px\n",
    "fig = go.Figure() # or any Plotly Express function e.g. px.bar(...)\n",
    "# fig.add_trace( ... )\n",
    "# fig.update_layout( ... )\n",
    "\n",
    "import dash\n",
    "import dash_core_components as dcc\n",
    "import dash_html_components as html\n",
    "\n",
    "app = dash.Dash()\n",
    "app.layout = html.Div([\n",
    "    dcc.Graph(figure=fig)\n",
    "])\n",
    "\n",
    "app.run_server(debug=True, use_reloader=False)  # Turn off reloader if inside Jupyter"
   ]
  },
  {
   "cell_type": "code",
   "execution_count": null,
   "metadata": {
    "colab": {},
    "colab_type": "code",
    "id": "iNZB3Eil8hy7"
   },
   "outputs": [],
   "source": [
    "# Demo Time!"
   ]
  },
  {
   "cell_type": "markdown",
   "metadata": {
    "colab_type": "text",
    "id": "CQd_gzKRQms4"
   },
   "source": [
    "# Exercises:\n",
    "\n",
    "- Create some interactive plots with data from your internships\n",
    "- Check out the dash app gallery \n",
    "- Write 'Dash exists' on a note to yourself, to reference next time you are working on a personal project that could use some pretty plots :)"
   ]
  }
 ],
 "metadata": {
  "colab": {
   "collapsed_sections": [],
   "name": "Dash Tutorial.ipynb",
   "provenance": [],
   "toc_visible": true
  },
  "kernelspec": {
   "display_name": "Python 3",
   "language": "python",
   "name": "python3"
  },
  "language_info": {
   "codemirror_mode": {
    "name": "ipython",
    "version": 3
   },
   "file_extension": ".py",
   "mimetype": "text/x-python",
   "name": "python",
   "nbconvert_exporter": "python",
   "pygments_lexer": "ipython3",
   "version": "3.8.5"
  }
 },
 "nbformat": 4,
 "nbformat_minor": 1
}
