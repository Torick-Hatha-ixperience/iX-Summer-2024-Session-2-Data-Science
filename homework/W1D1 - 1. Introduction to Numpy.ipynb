{
 "cells": [
  {
   "cell_type": "markdown",
   "metadata": {},
   "source": [
    "# <font color='#eb3483'> Introduction to Numpy </font>\n",
    "\n",
    "\n",
    "If there's one thing you should be comfortable with by the end of this course, it's numpy (NUMerical PYthon) and Pandas - the backbone of data science in python. Both numpy and pandas package really helpful (and behind the scenes very quick) functions that you'll want to whip out time and time again. \n",
    "\n",
    "Today we'll start with numpy - a package that takes lists and supercharges them to be lean, mean data science machines. By convention most people import numpy as np - before we continue make sure that the import statement works (i.e. numpy is installed in your environment)!"
   ]
  },
  {
   "cell_type": "code",
   "execution_count": null,
   "metadata": {},
   "outputs": [],
   "source": [
    "#the convention is to import numpy as np\n",
    "import numpy as np"
   ]
  },
  {
   "cell_type": "markdown",
   "metadata": {},
   "source": [
    "## <font color='#eb3483'> Arrays </font>\n",
    "\n",
    "Numpy arrays can be thought of as generalizations of lists. Instead of having one dimension along which they may have multiple entries, arrays can have arbitrarily many axes!"
   ]
  },
  {
   "cell_type": "markdown",
   "metadata": {},
   "source": [
    "### <font color='#eb3483'> 1 dimensional arrays (a.k.a vectors) </font>"
   ]
  },
  {
   "cell_type": "code",
   "execution_count": null,
   "metadata": {},
   "outputs": [],
   "source": [
    "#To create a numpy array you can feed in a standard python list as the input argument\n",
    "example1 = np.array([4, 5, 3])\n",
    "print(example1)\n",
    "type(example1)"
   ]
  },
  {
   "cell_type": "code",
   "execution_count": null,
   "metadata": {},
   "outputs": [],
   "source": [
    "#Let's check out how long our array is\n",
    "len(example1)"
   ]
  },
  {
   "cell_type": "code",
   "execution_count": null,
   "metadata": {},
   "outputs": [],
   "source": [
    "#Shape gives us the length along each dimension\n",
    "example1.shape # (rows, columns)"
   ]
  },
  {
   "cell_type": "code",
   "execution_count": null,
   "metadata": {},
   "outputs": [],
   "source": [
    "#ndim tells us how many dimensions our array has\n",
    "example1.ndim "
   ]
  },
  {
   "cell_type": "code",
   "execution_count": null,
   "metadata": {},
   "outputs": [],
   "source": [
    "#Note that unlike lists, each array has a specific date type (we can see it with dtype)\n",
    "example1.dtype"
   ]
  },
  {
   "cell_type": "code",
   "execution_count": null,
   "metadata": {},
   "outputs": [],
   "source": [
    "#We can change the type use astype (to set a type use np.TYPE - google for a list of types)\n",
    "example1.astype(np.float64)"
   ]
  },
  {
   "cell_type": "markdown",
   "metadata": {},
   "source": [
    "### <font color='#eb3483'> 2 dimensional arrays (a.k.a matrices) </font>"
   ]
  },
  {
   "cell_type": "code",
   "execution_count": null,
   "metadata": {},
   "outputs": [],
   "source": [
    "#Now let's feed in a list of lists\n",
    "example2 = np.array([[1, 2, 1], [5, 43, 5]])\n",
    "print(example2)"
   ]
  },
  {
   "cell_type": "code",
   "execution_count": null,
   "metadata": {},
   "outputs": [],
   "source": [
    "#Remember you can always check-out the help docs\n",
    "np.array?"
   ]
  },
  {
   "cell_type": "code",
   "execution_count": null,
   "metadata": {},
   "outputs": [],
   "source": [
    "example2.shape"
   ]
  },
  {
   "cell_type": "code",
   "execution_count": null,
   "metadata": {},
   "outputs": [],
   "source": [
    "example2.ndim"
   ]
  },
  {
   "cell_type": "markdown",
   "metadata": {},
   "source": [
    "## <font color='#eb3483'> Creating Arrays </font>"
   ]
  },
  {
   "cell_type": "markdown",
   "metadata": {},
   "source": [
    "`arange` returns equally-spaced values within a given interval (inclusive of the start and exclusively of the stop). It has the following parameters:\n",
    "1. **start** : number, optional\n",
    "    Start of interval.  The interval includes this value.  The default\n",
    "    start value is 0.\n",
    "2. **stop** : number\n",
    "    End of interval.  The interval does not include this value, except\n",
    "    in some cases where `step` is not an integer and floating point\n",
    "    round-off affects the length of `out`.\n",
    "3. **step** : number, optional\n",
    "    Spacing between values.  For any output `out`, this is the distance\n",
    "    between two adjacent values, ``out[i+1] - out[i]``.  The default\n",
    "    step size is 1.  If `step` is specified as a position argument,\n",
    "    `start` must also be given."
   ]
  },
  {
   "cell_type": "code",
   "execution_count": null,
   "metadata": {
    "scrolled": true
   },
   "outputs": [],
   "source": [
    "# make range using arange\n",
    "\n",
    "arng = np.arange(0, 10, 1)\n",
    "\n",
    "print(arng)\n",
    "\n",
    "# arange isn't constrained to integer values!\n",
    "arng = np.arange(1.2, 7.87, 0.47)\n",
    "\n",
    "print('\\n', arng)\n",
    "\n",
    "#what does '\\n' do?"
    "#The character '\\n' starts a new line in the input"
   ]
  },
  {
   "cell_type": "markdown",
   "metadata": {},
   "source": [
    "Numpy also provides a number of utility functions to generate arrays in commonly used forms. A few of these are:\n",
    "\n",
    "1. `ones` returns an array of the specified shape populated entirely with ones.\n",
    "\n",
    "2. `zeros` returns an array of the specified shape, filled with zeros.\n",
    "\n",
    "3. `eye` returns a 2D array with ones on the diagonal and zeros everywhere else\n",
    "\n",
    "4. `diag` returns a 2D array with the given array on its diagonal and zeros elsewhere.\n",
    "\n",
    "4. `repeat` repeats a number or each element in a sequence of numbers a given number of times in an array.\n",
    "\n",
    "4. `np.random` creates an array with random values in the interval (0, 1)"
   ]
  },
  {
   "cell_type": "code",
   "execution_count": null,
   "metadata": {},
   "outputs": [],
   "source": [
    "np.ones((2, 3))"
   ]
  },
  {
   "cell_type": "code",
   "execution_count": null,
   "metadata": {},
   "outputs": [],
   "source": [
    "np.zeros((3,2))"
   ]
  },
  {
   "cell_type": "code",
   "execution_count": null,
   "metadata": {},
   "outputs": [],
   "source": [
    "np.eye(3)"
   ]
  },
  {
   "cell_type": "code",
   "execution_count": null,
   "metadata": {},
   "outputs": [],
   "source": [
    "np.diag([1, 2, 3])"
   ]
  },
  {
   "cell_type": "code",
   "execution_count": null,
   "metadata": {},
   "outputs": [],
   "source": [
    "np.repeat([1, 2, 3, 4], 3)"
   ]
  },
  {
   "cell_type": "markdown",
   "metadata": {},
   "source": [
    "To generate random numbers we use ... "
   ]
  },
  {
   "cell_type": "code",
   "execution_count": null,
   "metadata": {},
   "outputs": [],
   "source": [
    "np.random.random(2)"
   ]
  },
  {
   "cell_type": "code",
   "execution_count": null,
   "metadata": {},
   "outputs": [],
   "source": [
    "np.random.random((2,3))"
   ]
  },
  {
   "cell_type": "markdown",
   "metadata": {},
   "source": [
    "### <font color='#eb3483'> Quick knowledge check! </font>\n",
    "1. We learned how to make an array using `arange`. A closely related function is `linspace` - take a look at the help doc. for linspace and recreate the array generated by `np.arange(0, 10, 1)` using linspace."
   ]
  },
  {
   "cell_type": "code",
   "execution_count": null,
   "metadata": {},
   "outputs": [],
   "source": [
   "linspace_array = np.linspace(0, 9, 10)"
   "print(linspace_array)"
   ]
  },
  {
   "cell_type": "markdown",
   "metadata": {},
   "source": [
    "2. Make a 5 x 3 matrix of all threes using numpy."
   ]
  },
  {
   "cell_type": "code",
   "execution_count": null,
   "metadata": {},
   "outputs": [],
   "source": [
   "matrix = np.full((5, 3), 3)"
   "print(matrix)"
   ]
  },
  {
   "cell_type": "markdown",
   "metadata": {},
   "source": [
    "## <font color='#eb3483'> Combining and Splitting Arrays </font>\n",
    "\n",
    "Numpy provides a number of ways in which we can combine arrays to form new arrays.\n",
    "\n",
    "Two of the key functions are `vstack` and `hstack`. These functions respectively stack arrays vertically (one on top of another) and horizontally (one alongside another).\n",
    "\n",
    "You can see that this implies that `vstack` requires that the stacked arrays have the same number of columns, while `hstack` requires that the stacked arrays have the same number of rows."
   ]
  },
  {
   "cell_type": "code",
   "execution_count": null,
   "metadata": {},
   "outputs": [],
   "source": [
    "# create a dataframe which we'll play around with stacking\n",
    "arr = np.array([[1, 2, 3], [4, 5, 6]])\n",
    "\n",
    "print('arr:\\n', arr, '\\n')\n",
    "\n",
    "# lets stack the same array vertically\n",
    "vstacked = np.vstack([arr, arr])\n",
    "\n",
    "print('vstacked:\\n', vstacked, '\\n')\n",
    "\n",
    "# lets stack the same array horizontally\n",
    "hstacked = np.hstack([arr, arr])\n",
    "\n",
    "print('hstacked:\\n', hstacked, '\\n')"
   ]
  },
  {
   "cell_type": "markdown",
   "metadata": {},
   "source": [
    "Where we can combine arrays, so to can we break them up! `vsplit` and `hsplit` are the splitting analogs to `vstack` and `hstack`. Instead of passing in two arrays and getting one back, we now feed in one array and a list of indices where we want to split them (note that N split points, will give us N + 1 new arrays)."
   ]
  },
  {
   "cell_type": "code",
   "execution_count": null,
   "metadata": {},
   "outputs": [],
   "source": [
    "# create a dataframe which we'll play around with splitting \n",
    "# Note we're creating an array counting from 0 to 11 and then turning it into a matrix using reshape\n",
    "arr = np.arange(20).reshape((5,4))\n",
    "\n",
    "print('arr:\\n', arr, '\\n')\n",
    "\n",
    "# lets split the array vertically (try change the)\n",
    "upper, middle, lower = np.vsplit(arr, [2,4])\n",
    "\n",
    "print('Upper Split:\\n', upper, '\\n',\n",
    "      'Middle Split:\\n', middle, '\\n',\n",
    "     'Lower Split:\\n', lower, '\\n',)\n",
    "\n",
    "# lets stack the same array horizontally\n",
    "left, right = np.hsplit(arr, [2])\n",
    "\n",
    "print('Left Split:\\n', left, '\\n',\n",
    "      'Right Split:\\n', right, '\\n')"
   ]
  },
  {
   "cell_type": "markdown",
   "metadata": {},
   "source": [
    "### <font color='#eb3483'> Quick knowledge check! </font>\n",
    "1. Replace the `?` below with either h or v (think about which one will work) - run the code to see if you got it right!"
   ]
  },
  {
   "cell_type": "code",
   "execution_count": null,
   "metadata": {},
   "outputs": [],
   "source": [
    "arr1 = np.ones((1,7))\n",
    "arr2 = np.zeros((7,7))\n",
    "\n",
    "myBigArray = np.vstack([arr1,arr2])\n",
    "\n",
    "print(myBigArray)"
   ]
  },
  {
   "cell_type": "markdown",
   "metadata": {},
   "source": [
    "## <font color='#eb3483'> Operations and Arithmetic </font>\n",
    "\n",
    "\n",
    "Numpy arrays support element-wise arithmetic via a set of overloaded operators that you should be very familiar with (they simply perform the usual operations on each element of the given tensor).\n",
    "\n",
    "1. `+` — element-wise addition\n",
    "2. `-` — element-wise subtraction\n",
    "3. `*` — element-wise multiplication\n",
    "4. `/` — element-wise division\n",
    "5. `**` — element-wise power"
   ]
  },
  {
   "cell_type": "code",
   "execution_count": null,
   "metadata": {},
   "outputs": [],
   "source": [
    "x = np.array([1, 2, 3])\n",
    "y = np.array([4, 5, 6])\n",
    "\n",
    "print('addition:\\n', x + y, '\\n')\n",
    "print('subtraction:\\n', x - y, '\\n')\n",
    "print('multiplication:\\n', x * y, '\\n')\n",
    "print('division:\\n', x / y, '\\n')\n",
    "print('power:\\n', x ** 2, '\\n')"
   ]
  },
  {
   "cell_type": "markdown",
   "metadata": {},
   "source": [
    "We can also perform the **dot product** (which you may be familiar with):\n",
    "\n",
    "$ \\begin{bmatrix}x_1 \\ x_2 \\ x_3\\end{bmatrix}\n",
    "\\cdot\n",
    "\\begin{bmatrix}y_1 \\\\ y_2 \\\\ y_3\\end{bmatrix}\n",
    "= x_1 y_1 + x_2 y_2 + x_3 y_3$"
   ]
  },
  {
   "cell_type": "code",
   "execution_count": null,
   "metadata": {},
   "outputs": [],
   "source": [
    "x.dot(y)"
   ]
  },
  {
   "cell_type": "markdown",
   "metadata": {},
   "source": [
    "This can also be written as:"
   ]
  },
  {
   "cell_type": "code",
   "execution_count": null,
   "metadata": {},
   "outputs": [],
   "source": [
    "x @ y"
   ]
  },
  {
   "cell_type": "markdown",
   "metadata": {},
   "source": [
    "Taking the dot product implicitly transposes the first vector `x`. We can also achieve this through use of the transpose method for Numpy arrays."
   ]
  },
  {
   "cell_type": "code",
   "execution_count": null,
   "metadata": {
    "scrolled": true
   },
   "outputs": [],
   "source": [
    "print('array:\\n', arr, '\\n')\n",
    "print('transposed array:\\n', arr.T, '\\n')\n",
    "print('transposed array shape:\\n', arr.T.shape, '\\n')"
   ]
  },
  {
   "cell_type": "markdown",
   "metadata": {},
   "source": [
    "We can also use the same idea for boolean operators"
   ]
  },
  {
   "cell_type": "code",
   "execution_count": null,
   "metadata": {},
   "outputs": [],
   "source": [
    "arr1 = np.array([1, 2, 3])\n",
    "arr2 = np.array([1, -124, 5])\n",
    "\n",
    "print('arr1 > arr2? ', arr1 > arr2)\n",
    "print('arr1 < arr2? ', arr1 < arr2)\n",
    "print('arr1 = arr2? ', arr1 == arr2) #Note for checking equality we use two == \n",
    "print('arr1 != arr2? ', arr1 != arr2) #!= means not equal"
   ]
  },
  {
   "cell_type": "markdown",
   "metadata": {},
   "source": [
    "We can also extend the same idea of comparing boolean variables (i.e. and, or) to vectors of boolean arrays."
   ]
  },
  {
   "cell_type": "code",
   "execution_count": null,
   "metadata": {},
   "outputs": [],
   "source": [
    "arr1 = np.array([True, True, False, False])\n",
    "arr2 = np.array([True, False, True, False])\n",
    "\n",
    "print('arr1 AND arr2', arr1 & arr2) #Note that for vectors, we need & and not 'and'\n",
    "print('arr1 OR arr2', arr1 | arr2) #Note that for vectors, we need | and not 'or'"
   ]
  },
  {
   "cell_type": "markdown",
   "metadata": {},
   "source": [
    "You might be wondering why we use numpy's functions instead of doing a loop and using Python's base functions (i.e. why not loop through our numpy array and add the two arrays together one at a time)? Beyond being a little more readable, numpy's functions actually run a lot faster than Python's built-in functions. It won't come up for smaller applications, but when you're working with massive datasets it's important to keep in mind that you want to rely on numpy whenever possible to keep your code working fast!"
   ]
  },
  {
   "cell_type": "markdown",
   "metadata": {},
   "source": [
    "## <font color='#eb3483'> Aggregations </font>\n",
    "\n",
    "A lot of times you might want to get a summarized view of your numpy array - that's where aggregations come in! Python has a lot of aggregation functions built-in (i.e. `sum`,  `max`, `min`...etc.) but again, the numpy varieties run a lot faster!\n",
    "\n",
    "Some handy aggregation functions you might want to use are:\n",
    "\n",
    "1. `sum` — add together all the elements\n",
    "2. `mean` — get the average of all the elements\n",
    "3. `std` — get the standard deviation of all the elements\n",
    "4. `max` — get the maximum value in the array\n",
    "5. `min` — get the minimum value in the array\n",
    "6. `argmax` — get the index of the maximum value in the array\n",
    "7. `argmin` — get the index of the minimum value in the array\n",
    "\n",
    "Let's take some for a spin"
   ]
  },
  {
   "cell_type": "code",
   "execution_count": null,
   "metadata": {},
   "outputs": [],
   "source": [
    "#Let's make an array to play around with\n",
    "arr = np.arange(10)\n",
    "print('Our array: ', arr)\n",
    "\n",
    "#Let's start by trying out some basic aggregation functions\n",
    "print('Sum: ', np.sum(arr))\n",
    "print('Average: ', np.mean(arr)) #Mean = Stats-y way to say average\n",
    "print('Max: ', np.max(arr)) \n",
    "print('Argmax: ', np.argmax(arr)) #"
   ]
  },
  {
   "cell_type": "markdown",
   "metadata": {},
   "source": [
    "For these aggregation functions, we can also access them directly from the array object (remember too include the '()' because they're functions not attributes)."
   ]
  },
  {
   "cell_type": "code",
   "execution_count": null,
   "metadata": {},
   "outputs": [],
   "source": [
    "#Remix of the above with a different syntax\n",
    "print('Sum: ', arr.sum())\n",
    "print('Mean: ', arr.mean())\n",
    "print('Max: ', arr.max())\n",
    "print('Argmax: ', arr.argmax()) #"
   ]
  },
  {
   "cell_type": "markdown",
   "metadata": {},
   "source": [
    "When we're working with matrices, we can use the same aggregation functions and even apply them to only one dimension (note `axis = 0` means columns, `axis = 1` means rows - though I usually can't remember and just go to the help doc to double check)"
   ]
  },
  {
   "cell_type": "code",
   "execution_count": null,
   "metadata": {},
   "outputs": [],
   "source": [
    "matrix = np.arange(20).reshape(5,4)\n",
    "print('Our matrix: \\n', matrix)\n",
    "\n",
    "print('Sum (everything): ', matrix.sum())\n",
    "print('Sum (rows): ', matrix.sum(axis=1)) #Notice that we have 4 results and 4 roows\n",
    "print('Sum (cols): ', matrix.sum(axis=0)) #Notice that we now have 5 results (1 per col)"
   ]
  },
  {
   "cell_type": "markdown",
   "metadata": {},
   "source": [
    "Sometimes our matrices might have missing values (numpy has a handy data type called `nan`), a lot of our aggregation functions stop working if we hit a nan so we have to use 'nan-safe' pieces (generally you just tack on nan to the name of the function)."
   ]
  },
  {
   "cell_type": "code",
   "execution_count": null,
   "metadata": {},
   "outputs": [],
   "source": [
    "#Let's make an array with a missing value\n",
    "nanArray = np.array([1, np.nan, 3, 4])\n",
    "\n",
    "print('Normal sum: ', nanArray.sum())\n",
    "print('Nan-safe sum: ', np.nansum(nanArray)) #Note that we have to use the np.FUN format for nan safe functions"
   ]
  },
  {
   "cell_type": "markdown",
   "metadata": {},
   "source": [
    "We also have aggregations for boolean arrays too!"
   ]
  },
  {
   "cell_type": "code",
   "execution_count": null,
   "metadata": {},
   "outputs": [],
   "source": [
    "arr1 = np.array([True, False, True, False])\n",
    "\n",
    "#Any checks if any value of the array is true\n",
    "print('Any :', arr1.any())\n",
    "\n",
    "#All checks if ALL value of the array are true\n",
    "print('All :', arr1.all())"
   ]
  },
  {
   "cell_type": "markdown",
   "metadata": {},
   "source": [
    "### <font color='#eb3483'> Quick knowledge check! </font>\n",
    "1. Add together matrices a and b and get the average value of each column in the added matrices."
   ]
  },
  {
   "cell_type": "code",
   "execution_count": null,
   "metadata": {},
   "outputs": [],
   "source": [
    "a = np.arange(25).reshape((5,5))\n",
    "b = np.eye(5)\n",
    "\n",
    "added_matrices = a + b"
    "column_means = added_matrices.mean(axis=0)"
    "print(added_matrices)"
    "print(column_means)"
   ]
  },
  {
   "cell_type": "markdown",
   "metadata": {},
   "source": [
    "## <font color='#eb3483'> Slicing </font>"
   ]
  },
  {
   "cell_type": "markdown",
   "metadata": {},
   "source": [
    "It is very easy to take subsections of numpy arrays, this is called *\"slicing\"* (since we take a slice of the array)"
   ]
  },
  {
   "cell_type": "code",
   "execution_count": null,
   "metadata": {},
   "outputs": [],
   "source": [
    "matrix_34 = np.array([[1,2,3,4], [5,6,7,8], [9,10,11,12]])\n",
    "matrix_34"
   ]
  },
  {
   "cell_type": "markdown",
   "metadata": {},
   "source": [
    "We get the first row the same way we would do with a regular python list"
   ]
  },
  {
   "cell_type": "code",
   "execution_count": null,
   "metadata": {},
   "outputs": [],
   "source": [
    "matrix_34[0]"
   ]
  },
  {
   "cell_type": "markdown",
   "metadata": {},
   "source": [
    "We can choose the first 2 rows"
   ]
  },
  {
   "cell_type": "code",
   "execution_count": null,
   "metadata": {},
   "outputs": [],
   "source": [
    "matrix_34[:2]"
   ]
  },
  {
   "cell_type": "markdown",
   "metadata": {},
   "source": [
    "We can select the 2nd element of each row (that is, the 2nd column):"
   ]
  },
  {
   "cell_type": "code",
   "execution_count": null,
   "metadata": {},
   "outputs": [],
   "source": [
    "matrix_34[:,1]"
   ]
  },
  {
   "cell_type": "markdown",
   "metadata": {},
   "source": [
    "When we are slicing we dont get copies, but references to the same elements in the original array:"
   ]
  },
  {
   "cell_type": "code",
   "execution_count": null,
   "metadata": {},
   "outputs": [],
   "source": [
    "two_first_rows = matrix_34[:2,:]\n",
    "two_first_rows"
   ]
  },
  {
   "cell_type": "code",
   "execution_count": null,
   "metadata": {},
   "outputs": [],
   "source": [
    "print('Before changing slice: \\n', matrix_34)\n",
    "two_first_rows[0, 0] = 100\n",
    "print('After changing slice: \\n',matrix_34)"
   ]
  },
  {
   "cell_type": "markdown",
   "metadata": {},
   "source": [
    "However, if we can always get around this by using numpy arrays copy function, which will make a copy of the sliced view."
   ]
  },
  {
   "cell_type": "code",
   "execution_count": null,
   "metadata": {},
   "outputs": [],
   "source": [
    "print('Before changing copied slice: \\n', matrix_34)\n",
    "selection = matrix_34[:2,:].copy() #Makes a copy of our slice\n",
    "selection[0,1] = 100\n",
    "matrix_34\n",
    "print('After copied slice: \\n',matrix_34)"
   ]
  },
  {
   "cell_type": "markdown",
   "metadata": {},
   "source": [
    "### <font color='#eb3483'> Quick knowledge check! </font>\n",
    "1. Using the matrix below, use slicing to return only even number rows and columns (i.e. no element that's in either an odd row or an odd column should be included)."
   ]
  },
  {
   "cell_type": "code",
   "execution_count": null,
   "metadata": {},
   "outputs": [],
   "source": [
    "import numpy as np\n",
    "matrix = np.arange(100).reshape((10,10))\n",
    "\n",
    "matrix[::2, ::2]"
    "even_matrix = matrix[::2, ::2]"
    "print(even_matrix)"
   ]
  },
  {
   "cell_type": "markdown",
   "metadata": {},
   "source": [
    "## <font color='#eb3483'> Fancy Indexing </font>\n",
    "\n",
    "So far, we've looked at indexing pretty similar to lists - we either put in the element we want to see (i.e. `x[0]`) or slice (`x[1:4]`) - but we can do a whole lot more in numpy! One additional way we can index is called 'masking' - feeding in a boolean array that tells us whether or not return each row with a true or false. Let's see it in action:"
   ]
  },
  {
   "cell_type": "code",
   "execution_count": null,
   "metadata": {},
   "outputs": [],
   "source": [
    "arr = np.arange(3)\n",
    "mask = [True, False, True]\n",
    "\n",
    "print('Masking in action: ', arr[mask])"
   ]
  },
  {
   "cell_type": "markdown",
   "metadata": {},
   "source": [
    "Masking let's us get data that meet some conditions."
   ]
  },
  {
   "cell_type": "code",
   "execution_count": null,
   "metadata": {},
   "outputs": [],
   "source": [
    "# Let's get all the values greater than 0\n",
    "print('> 0: ', arr[arr > 0])\n",
    "\n",
    "#Or not equal to 1\n",
    "print('!= 1: ', arr[arr != 1])\n",
    "\n",
    "#It works on matrices too!\n",
    "matrix = np.eye(5)\n",
    "print('Matrix: \\n', matrix)\n",
    "print('Matrix > 0: \\n', matrix[matrix > 0])"
   ]
  },
  {
   "cell_type": "markdown",
   "metadata": {},
   "source": [
    "We can also feed in the specific indices we want to acces in array format (i.e. `x[[0,6,9]]` to get the 1st, 7th and 10th elements!"
   ]
  },
  {
   "cell_type": "code",
   "execution_count": null,
   "metadata": {},
   "outputs": [],
   "source": [
    "arr = np.arange(100)\n",
    "ind = [2, 5, 30]\n",
    "\n",
    "#Get the 3rd, 6th and 31st values of the array\n",
    "print('Array indexing: ', arr[ind])\n",
    "\n",
    "#It works for matrices too!\n",
    "matrix = np.random.rand(100).reshape(10,10)\n",
    "rows = [1, 3, 5]\n",
    "cols = [3, 8, 2] \n",
    "\n",
    "#Note that this code is returning elements at (1,3), (3,8), and (5,2)\n",
    "print('Matrix indexing: ', matrix[rows, cols])"
   ]
  },
  {
   "cell_type": "markdown",
   "metadata": {},
   "source": [
    "### <font color='#eb3483'> Quick knowledge check! </font>\n",
    "1. For the matrix below, get the average of all the values in the matrix above 50"
   ]
  },
  {
   "cell_type": "code",
   "execution_count": null,
   "metadata": {},
   "outputs": [],
   "source": [
    "matrix = np.arange(100).reshape(10,10)"
   "values_above_50 = matrix[matrix > 50]"
   "average_above_50 = values_above_50.mean()"
   "print(values_above_50)"
   "print(average_above_50)"
   ]
  }
 ],
 "metadata": {
  "kernelspec": {
   "display_name": "Python 3",
   "language": "python",
   "name": "python3"
  },
  "language_info": {
   "codemirror_mode": {
    "name": "ipython",
    "version": 3
   },
   "file_extension": ".py",
   "mimetype": "text/x-python",
   "name": "python",
   "nbconvert_exporter": "python",
   "pygments_lexer": "ipython3",
   "version": "3.7.7"
  }
 },
 "nbformat": 4,
 "nbformat_minor": 2
}
