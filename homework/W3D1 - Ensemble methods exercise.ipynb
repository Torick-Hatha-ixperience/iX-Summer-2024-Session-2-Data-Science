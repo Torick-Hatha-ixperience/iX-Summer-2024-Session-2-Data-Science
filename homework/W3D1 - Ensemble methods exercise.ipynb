{
  "cells": [
    {
      "cell_type": "markdown",
      "metadata": {
        "id": "dtqwe_1DU0g3"
      },
      "source": [
        "# <font color='#eb3483'> Ensemble methods exercise </font>"
      ]
    },
    {
      "cell_type": "markdown",
      "metadata": {
        "id": "4F5bZvIHU0g6"
      },
      "source": [
        "In this exercise we're going to use the famous iris dataset and determine the species of iris. We're going to use different ensemble methods for this classification task. Begin by importing the necessary libraries and loading the iris dataset from sklearn datasets."
      ]
    },
    {
      "cell_type": "code",
      "execution_count": null,
      "metadata": {
        "id": "23u1JOhVU0g6"
      },
      "outputs": [],
      "source": [
        "# import libaries"
      ]
    },
    {
      "cell_type": "code",
      "execution_count": null,
      "metadata": {
        "id": "Aa0-7REVU0g7"
      },
      "outputs": [],
      "source": [
        "# load data\n",
        "data = datasets.load_iris()"
      ]
    },
    {
      "cell_type": "code",
      "execution_count": null,
      "metadata": {
        "id": "EU6LdPdsU0g9"
      },
      "outputs": [],
      "source": [
        "# convert data to a dataframe and investigate data\n"
      ]
    },
    {
      "cell_type": "code",
      "execution_count": null,
      "metadata": {
        "id": "izuL-ClpU0g-"
      },
      "outputs": [],
      "source": [
        "# otherwise get raw data\n",
        "X = data.data\n",
        "y = data.target"
      ]
    },
    {
      "cell_type": "code",
      "execution_count": null,
      "metadata": {
        "id": "pQklclQzU0g-"
      },
      "outputs": [],
      "source": [
        "# what metrics to use for classification?\n",
        "#SCORERS.keys()"
      ]
    },
    {
      "cell_type": "code",
      "execution_count": null,
      "metadata": {
        "id": "Kh3rUm4MU0g_"
      },
      "outputs": [],
      "source": [
        "# define your evaluation metrics and create a display function that dispays the results in a table format\n",
        "def evaluate_model(estimator):\n",
        "    cv_results = cross_validate(estimator, X, y, scoring='accuracy', n_jobs=-1, cv=10, return_train_score=True)\n",
        "    return pd.DataFrame(cv_results).abs().mean().to_dict()\n",
        "\n",
        "def display_results(results):\n",
        "    results_df  = pd.DataFrame(results).T\n",
        "    results_cols = results_df.columns\n",
        "    for col in results_df:\n",
        "        results_df[col] = results_df[col].apply(np.mean)\n",
        "    return results_df"
      ]
    },
    {
      "cell_type": "markdown",
      "metadata": {
        "id": "0dWZrYzRU0g_"
      },
      "source": [
        "### <font color=\"#eb3483\">Exercise 2</font>\n",
        "\n",
        "Pick three ensemble techniques, train and evaluate their base learners using cross-validation."
      ]
    },
    {
      "cell_type": "code",
      "execution_count": null,
      "metadata": {
        "id": "xnLAqKgQU0hA"
      },
      "outputs": [],
      "source": [
        "# your code goes here"
      ]
    },
    {
      "cell_type": "markdown",
      "metadata": {
        "id": "yT0ybo5CU0hA"
      },
      "source": [
        "### <font color=\"#eb3483\">Exercise 2</font>\n",
        "\n",
        "Adjust ensemble methods parameters. Does model performance decrease or increase?"
      ]
    },
    {
      "cell_type": "code",
      "execution_count": null,
      "metadata": {
        "id": "NkR99wIwU0hA"
      },
      "outputs": [],
      "source": [
        "# your code goes here"
      ]
    },
    {
      "cell_type": "markdown",
      "metadata": {
        "id": "hcgcECtYU0hA"
      },
      "source": [
        "Observation: train score of bagging classifier increases when we increase sub-sampling ratio. Why? Model overfitting as we've increased the sampling proportion."
      ]
    }
  ],
  "metadata": {
    "kernelspec": {
      "display_name": "Python 3",
      "language": "python",
      "name": "python3"
    },
    "language_info": {
      "codemirror_mode": {
        "name": "ipython",
        "version": 3
      },
      "file_extension": ".py",
      "mimetype": "text/x-python",
      "name": "python",
      "nbconvert_exporter": "python",
      "pygments_lexer": "ipython3",
      "version": "3.7.1"
    },
    "colab": {
      "provenance": []
    }
  },
  "nbformat": 4,
  "nbformat_minor": 0
}
