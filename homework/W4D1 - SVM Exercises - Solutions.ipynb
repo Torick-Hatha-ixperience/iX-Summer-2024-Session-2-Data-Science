{
 "cells": [
  {
   "cell_type": "markdown",
   "metadata": {},
   "source": [
    "# <font color='#eb3483'> SVM Exercises </font>\n",
    "\n",
    "It's time for you to build your own SVM! We're going to use the same dataset as our decision tree exercises, and see if we can do better using SVMs instead of decision trees.\n",
    "\n",
    "Start by loading in the winne data set from sklearn and get itready for machine learning with scikit-learn (i.e. break into X, Y). I would just copy over my code from the decision tree exercise"
   ]
  },
  {
   "cell_type": "code",
   "execution_count": null,
   "metadata": {},
   "outputs": [],
   "source": [
    "import seaborn as sns\n",
    "import sklearn.datasets as datasets\n",
    "import pandas as pd\n",
    "import numpy as np\n",
    "\n",
    "import warnings\n",
    "warnings.simplefilter(\"ignore\")\n"
   ]
  },
  {
   "cell_type": "code",
   "execution_count": null,
   "metadata": {},
   "outputs": [],
   "source": [
    "wine = datasets.load_wine()\n",
    "wine.keys()\n",
    "\n",
    "X = pd.DataFrame(wine['data'], columns = wine['feature_names'])\n",
    "Y = pd.Series(wine['target'])"
   ]
  },
  {
   "cell_type": "markdown",
   "metadata": {},
   "source": [
    "### <font color='#eb3483'> Exercise 1 </font>\n",
    "\n",
    "Build a SVM for the wine data, and get a cross-validated score of it's accuracy (note ROC_AUC won't work for this problem as a metric because we're trying to predict multiple classes)."
   ]
  },
  {
   "cell_type": "code",
   "execution_count": null,
   "metadata": {},
   "outputs": [],
   "source": [
    "from sklearn.svm import SVC\n",
    "from sklearn.model_selection import cross_val_score\n",
    "\n",
    "svm =  SVC()\n",
    "cross_val_score(svm, X, Y, scoring=\"accuracy\", \n",
    "                cv=3).mean()"
   ]
  },
  {
   "cell_type": "markdown",
   "metadata": {},
   "source": [
    "### <font color='#eb3483'> Exercise 2 </font>\n",
    "\n",
    "Let's dig a little deeper into your classifier. Fit an SVM on the full dataset and check out how many support vectors each class has, and graph the decision boundary `mlxtend`. For plotting use the two most important features you found in your decision tree exercise (if you didn't get to it, use the last two features proline and the od ratio)."
   ]
  },
  {
   "cell_type": "code",
   "execution_count": null,
   "metadata": {},
   "outputs": [],
   "source": [
    "svm.fit(X, Y)\n",
    "svm.n_support_"
   ]
  },
  {
   "cell_type": "code",
   "execution_count": null,
   "metadata": {},
   "outputs": [],
   "source": [
    "from mlxtend.plotting import plot_decision_regions\n",
    "X_subset = X[['od280/od315_of_diluted_wines','proline']]\n",
    "svm.fit(X_subset, Y)\n",
    "plot_decision_regions(X_subset.to_numpy(), Y.to_numpy(), clf=svm);"
   ]
  },
  {
   "cell_type": "markdown",
   "metadata": {},
   "source": [
    "Looks like we might need a different kernel for this data."
   ]
  },
  {
   "cell_type": "markdown",
   "metadata": {},
   "source": [
    "### <font color='#eb3483'> Exercise 3 </font>\n",
    "\n",
    "Try different kernels for this data - which is the best? Repeat the plot from exercise two with your best kernel."
   ]
  },
  {
   "cell_type": "code",
   "execution_count": null,
   "metadata": {},
   "outputs": [],
   "source": [
    "results = []\n",
    "kernels = ['linear', 'poly', 'rbf']\n",
    "for kernel in kernels:\n",
    "    svm =  SVC(kernel = kernel)\n",
    "    results.append(cross_val_score(svm, X, Y, scoring=\"accuracy\", \n",
    "                cv=3).mean())\n",
    "print(\"Best Kernel: \", kernels[np.argmax(results)])"
   ]
  },
  {
   "cell_type": "code",
   "execution_count": null,
   "metadata": {},
   "outputs": [],
   "source": [
    "from mlxtend.plotting import plot_decision_regions\n",
    "X_subset = X[['od280/od315_of_diluted_wines','proline']]\n",
    "svm =  SVC(kernel = 'linear')\n",
    "svm.fit(X_subset, Y)\n",
    "plot_decision_regions(X_subset.to_numpy(), Y.to_numpy(), clf=svm);"
   ]
  }
 ],
 "metadata": {
  "kernelspec": {
   "display_name": "Python 3",
   "language": "python",
   "name": "python3"
  },
  "language_info": {
   "codemirror_mode": {
    "name": "ipython",
    "version": 3
   },
   "file_extension": ".py",
   "mimetype": "text/x-python",
   "name": "python",
   "nbconvert_exporter": "python",
   "pygments_lexer": "ipython3",
   "version": "3.9.1"
  }
 },
 "nbformat": 4,
 "nbformat_minor": 4
}
