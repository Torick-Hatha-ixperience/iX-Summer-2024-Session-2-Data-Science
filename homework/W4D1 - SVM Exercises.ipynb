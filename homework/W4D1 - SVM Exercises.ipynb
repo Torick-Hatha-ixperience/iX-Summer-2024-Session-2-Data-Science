{
 "cells": [
  {
   "cell_type": "markdown",
   "metadata": {},
   "source": [
    "# <font color='#eb3483'> SVM Exercises </font>\n",
    "\n",
    "It's time for you to build your own SVM! We're going to use the same dataset as our decision tree exercises, and see if we can do better using SVMs instead of decision trees.\n",
    "\n",
    "We'll start by loading in the wine data set from sklearn and get it ready for machine learning with scikit-learn (i.e. break into X, Y)."
   ]
  },
  {
   "cell_type": "code",
   "execution_count": null,
   "metadata": {},
   "outputs": [],
   "source": [
    "import seaborn as sns\n",
    "import sklearn.datasets as datasets\n",
    "import pandas as pd\n",
    "import numpy as np"
   ]
  },
  {
   "cell_type": "code",
   "execution_count": null,
   "metadata": {},
   "outputs": [],
   "source": [
    "wine = datasets.load_wine()\n",
    "wine.keys()\n",
    "\n",
    "X = pd.DataFrame(wine['data'], columns = wine['feature_names'])\n",
    "Y = pd.Series(wine['target'])"
   ]
  },
  {
   "cell_type": "markdown",
   "metadata": {},
   "source": [
    "### <font color='#eb3483'> Exercise 1 </font>\n",
    "\n",
    "Build a SVM for the wine data, and get a cross-validated score of it's accuracy (note ROC_AUC won't work for this problem as a metric because we're trying to predict multiple classes). Hint use the `cross_val_score` function from sklearn.model_selection "
   ]
  },
  {
   "cell_type": "code",
   "execution_count": null,
   "metadata": {},
   "outputs": [],
   "source": []
  },
  {
   "cell_type": "markdown",
   "metadata": {},
   "source": [
    "### <font color='#eb3483'> Exercise 2 </font>\n",
    "\n",
    "Let's dig a little deeper into your classifier. Fit an SVM on the full dataset and graph the decision boundary `mlxtend` (we've imported the right function for you below - how can you check what you'll need to fit in?). For plotting use the two most important features you found in your decision tree exercise (if you didn't get to it, use the last two features proline and the od ratio). "
   ]
  },
  {
   "cell_type": "code",
   "execution_count": null,
   "metadata": {},
   "outputs": [],
   "source": [
    "from mlxtend.plotting import plot_decision_regions"
   ]
  },
  {
   "cell_type": "markdown",
   "metadata": {},
   "source": [
    "### <font color='#eb3483'> Exercise 3 </font>\n",
    "\n",
    "Try different kernels for this data - which is the best (try `linear`, `poly` and `RBF`)? Repeat the plot from exercise two with your best kernel."
   ]
  },
  {
   "cell_type": "code",
   "execution_count": null,
   "metadata": {},
   "outputs": [],
   "source": []
  }
 ],
 "metadata": {
  "kernelspec": {
   "display_name": "Python 3",
   "language": "python",
   "name": "python3"
  },
  "language_info": {
   "codemirror_mode": {
    "name": "ipython",
    "version": 3
   },
   "file_extension": ".py",
   "mimetype": "text/x-python",
   "name": "python",
   "nbconvert_exporter": "python",
   "pygments_lexer": "ipython3",
   "version": "3.7.1"
  }
 },
 "nbformat": 4,
 "nbformat_minor": 4
}
